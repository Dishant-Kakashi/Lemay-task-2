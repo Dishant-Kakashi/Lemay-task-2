{
 "cells": [
  {
   "cell_type": "code",
   "execution_count": null,
   "id": "5c5b0825-7d01-4a43-8b3a-a945f2703864",
   "metadata": {},
   "outputs": [],
   "source": [
    "import requests\n",
    "import concurrent.futures"
   ]
  },
  {
   "cell_type": "code",
   "execution_count": null,
   "id": "c608e639-c662-4ffd-b151-258f0d7ec298",
   "metadata": {},
   "outputs": [],
   "source": [
    "# Base URL of the FastAPI server\n",
    "BASE_URL = \"http://0.0.0.0:8000\"\n",
    "URL = f\"{BASE_URL}/generate\""
   ]
  },
  {
   "cell_type": "code",
   "execution_count": null,
   "id": "64ad5176-2cbf-4a83-befd-74220f816c59",
   "metadata": {},
   "outputs": [],
   "source": [
    "# Fixed context and question (same for all requests)\n",
    "QA_PAYLOAD = {\n",
    "    \"question\": \"Who is the Mother?\",\n",
    "    \"context\": \"Rapunzel: The Tower in the Forgotten Forest Chapter 1: The Golden Prison High above the canopy of the Whispering Woods, where ancient oaks stretched their gnarled branches toward the clouds and morning mist clung to valleys like ghostly veils, stood a tower that had no door. Built from stones as white as winter snow and crowned with a pointed roof of slate gray, it rose from a clearing where wildflowers bloomed in defiance of the shadows cast by the surrounding forest. Within this tower lived a young woman whose hair had never known the touch of scissors. Rapunzel sat by her window on this particular morning, as she had every morning for as long as memory served, brushing the golden cascade that flowed from her head like liquid sunlight. Her hair fell in waves down the tower’s exterior wall, pooling in shimmering coils on the forest floor seventy feet below. Twenty years had passed since Mother Gothel had first brought her to this place, though Rapunzel remembered nothing of the world beyond these walls. Her earliest memories were of Mother Gothel’s weathered hands braiding her hair, of lessons in reading and writing, of warnings about the dangers that lurked beyond the tower’s safety. The world is full of wicked people, my dear, Mother Gothel would say as she climbed Rapunzel’s hair to reach the single window that served as the tower’s only entrance. Men who would steal your gift, women who would poison you with jealousy, creatures that hunt in the darkness. Only here are you truly safe. Rapunzel had believed these words without question for most of her life. But lately, as she watched birds soar freely through the sky and glimpsed deer drinking from the stream that wound through the forest below, questions had begun to sprout in her mind like the wildflowers in the clearing. What lay beyond the horizon where the forest met the sky? What sounds filled the world besides the rustling of leaves and Mother Gothel’s voice? Were there others like her, with gifts that needed protecting, or was she truly alone in possessing magic? For Rapunzel’s hair was indeed magical. When she sang—and she sang often, her voice echoing through the tower’s empty chambers—her golden locks would glow with inner light. The glow could heal small wounds, ease pain, and even restore wilted flowers to bloom. Mother Gothel had explained that this gift made her precious beyond measure, but also marked her as prey for those who would exploit such power. On this morning, however, Rapunzel felt an unusual restlessness stirring in her chest. She had awakened from dreams filled with unfamiliar faces and distant places, dreams that felt more like memories than imagination. As she braided her hair in preparation for Mother Gothel’s daily visit, she found herself humming a melody she didn’t remember learning. The tune was haunting and beautiful, speaking of longing and hope in ways that words could not capture. As she hummed, her hair began to shimmer with golden light, and for a moment, the tower walls seemed to fade away. She could almost see beyond them, into a world painted in colors she had no names for.\"\n",
    "}"
   ]
  },
  {
   "cell_type": "code",
   "execution_count": null,
   "id": "54960234-df2f-4ed5-8e26-edbe90879b46",
   "metadata": {},
   "outputs": [],
   "source": [
    "# Function to make a single POST request\n",
    "def make_request(index):\n",
    "    response = requests.post(URL, json=QA_PAYLOAD)\n",
    "    try:\n",
    "        return {\n",
    "            \"index\": index,\n",
    "            \"status\": response.status_code,\n",
    "            \"response\": response.json()\n",
    "        }\n",
    "    except Exception as e:\n",
    "        return {\n",
    "            \"index\": index,\n",
    "            \"status\": response.status_code,\n",
    "            \"error\": str(e)\n",
    "        }"
   ]
  },
  {
   "cell_type": "code",
   "execution_count": null,
   "id": "67617e13-8d41-4c20-8206-0186e2d4bbd0",
   "metadata": {},
   "outputs": [],
   "source": [
    "# Run requests in parallel using ThreadPoolExecutor\n",
    "def run_parallel_requests(num_requests=10, max_workers=4):\n",
    "    with concurrent.futures.ThreadPoolExecutor(max_workers=max_workers) as executor:\n",
    "        futures = [executor.submit(make_request, i) for i in range(num_requests)]\n",
    "        results = [future.result() for future in concurrent.futures.as_completed(futures)]\n",
    "        return results"
   ]
  },
  {
   "cell_type": "code",
   "execution_count": null,
   "id": "6f5fb3d3-caa5-4874-9cac-98a756e1b565",
   "metadata": {},
   "outputs": [],
   "source": [
    "responses = run_parallel_requests(num_requests=10, max_workers=4)\n",
    "for r in responses:\n",
    "    print(r)"
   ]
  },
  {
   "cell_type": "code",
   "execution_count": null,
   "id": "c67c70c6-f0ac-4ef1-b973-9fc303c8d2a8",
   "metadata": {},
   "outputs": [],
   "source": []
  }
 ],
 "metadata": {
  "kernelspec": {
   "display_name": "langchain",
   "language": "python",
   "name": "langchain"
  },
  "language_info": {
   "codemirror_mode": {
    "name": "ipython",
    "version": 3
   },
   "file_extension": ".py",
   "mimetype": "text/x-python",
   "name": "python",
   "nbconvert_exporter": "python",
   "pygments_lexer": "ipython3",
   "version": "3.10.13"
  }
 },
 "nbformat": 4,
 "nbformat_minor": 5
}
